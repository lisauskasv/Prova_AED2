{
 "cells": [
  {
   "cell_type": "code",
   "execution_count": 18,
   "id": "0c9eef38-ddc3-4b09-9960-8f26128512f3",
   "metadata": {},
   "outputs": [],
   "source": [
    "class No:\n",
    "    def _init_(self, valor):\n",
    "        self.valor = valor\n",
    "        self.proximo = None \n",
    "\n",
    "class ListaEncadeada:\n",
    "    def _init_(self):\n",
    "        self.inicio = None\n",
    "    def inserir(self, ):\n",
    "        novo_no = No()\n",
    "        if self.inicio is None:\n",
    "            self.inicio = novo_no\n",
    "        else:\n",
    "            atual = self.inicio\n",
    "            while atual.proximo:\n",
    "                atual = atual.proximo\n",
    "            atual.proximo = novo_no\n",
    "    def contar(self):\n",
    "        contar_no = 0 \n",
    "        atual = self.inicio\n",
    "        while atual: \n",
    "            contar_no += 1\n",
    "            atual = atual.proximo \n",
    "        return contar_no\n"
   ]
  },
  {
   "cell_type": "code",
   "execution_count": 19,
   "id": "e9257968-db10-44cc-b0f6-104430db5dda",
   "metadata": {},
   "outputs": [],
   "source": [
    "#Lista vazia\n",
    "\n",
    "lista = ListaEncadeada()"
   ]
  },
  {
   "cell_type": "code",
   "execution_count": 20,
   "id": "69bbb290-6fec-45ac-b381-a43b6fb3e35b",
   "metadata": {},
   "outputs": [
    {
     "ename": "TypeError",
     "evalue": "ListaEncadeada.inserir() takes 1 positional argument but 2 were given",
     "output_type": "error",
     "traceback": [
      "\u001b[1;31m---------------------------------------------------------------------------\u001b[0m",
      "\u001b[1;31mTypeError\u001b[0m                                 Traceback (most recent call last)",
      "Cell \u001b[1;32mIn[20], line 3\u001b[0m\n\u001b[0;32m      1\u001b[0m \u001b[38;5;66;03m#Inserir Valores: \u001b[39;00m\n\u001b[1;32m----> 3\u001b[0m lista\u001b[38;5;241m.\u001b[39minserir(\u001b[38;5;241m5\u001b[39m)\n\u001b[0;32m      4\u001b[0m lista\u001b[38;5;241m.\u001b[39minserir(\u001b[38;5;241m15\u001b[39m)\n\u001b[0;32m      5\u001b[0m lista\u001b[38;5;241m.\u001b[39minserir(\u001b[38;5;241m25\u001b[39m)\n",
      "\u001b[1;31mTypeError\u001b[0m: ListaEncadeada.inserir() takes 1 positional argument but 2 were given"
     ]
    }
   ],
   "source": [
    "#Inserir Valores: \n",
    "\n",
    "lista.inserir(5)\n",
    "lista.inserir(15)\n",
    "lista.inserir(25)\n"
   ]
  },
  {
   "cell_type": "code",
   "execution_count": 21,
   "id": "d3db2c2a-3127-49ae-ada3-7d574f4ad3bb",
   "metadata": {},
   "outputs": [
    {
     "name": "stdout",
     "output_type": "stream",
     "text": [
      "<__main__.ListaEncadeada object at 0x000001C74639D400>\n"
     ]
    }
   ],
   "source": [
    "print(lista)"
   ]
  },
  {
   "cell_type": "code",
   "execution_count": 22,
   "id": "4fb89642-cf61-449f-bb02-b45073514448",
   "metadata": {},
   "outputs": [
    {
     "name": "stdout",
     "output_type": "stream",
     "text": [
      "<bound method ListaEncadeada.contar of <__main__.ListaEncadeada object at 0x000001C74639D400>>\n"
     ]
    }
   ],
   "source": [
    "#Contar elementos \n",
    "\n",
    "print(lista.contar)"
   ]
  },
  {
   "cell_type": "code",
   "execution_count": null,
   "id": "19cc7dcf-636f-46d2-94a7-5c21bfde9bb5",
   "metadata": {},
   "outputs": [],
   "source": []
  }
 ],
 "metadata": {
  "kernelspec": {
   "display_name": "Python 3 (ipykernel)",
   "language": "python",
   "name": "python3"
  },
  "language_info": {
   "codemirror_mode": {
    "name": "ipython",
    "version": 3
   },
   "file_extension": ".py",
   "mimetype": "text/x-python",
   "name": "python",
   "nbconvert_exporter": "python",
   "pygments_lexer": "ipython3",
   "version": "3.12.4"
  }
 },
 "nbformat": 4,
 "nbformat_minor": 5
}
